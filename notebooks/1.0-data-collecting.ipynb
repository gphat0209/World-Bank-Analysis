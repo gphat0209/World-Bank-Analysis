{
 "cells": [
  {
   "cell_type": "markdown",
   "metadata": {},
   "source": [
    "<div style=\"text-align: center; background-color: #5A96E3; font-family: 'Trebuchet MS', Arial, sans-serif; color: white; padding: 20px; font-size: 40px; font-weight: bold; border-radius: 0 0 0 0; box-shadow: 0px 6px 8px rgba(0, 0, 0, 0.2);\">\n",
    "  Stage 01 - Data collecting 📌\n",
    "</div>"
   ]
  },
  {
   "cell_type": "markdown",
   "metadata": {},
   "source": [
    "## Introduction"
   ]
  },
  {
   "cell_type": "markdown",
   "metadata": {},
   "source": [
    "First, tell us what your's name, and your student ID number?"
   ]
  },
  {
   "cell_type": "code",
   "execution_count": 1,
   "metadata": {},
   "outputs": [],
   "source": [
    "\n",
    "studentName = \"Trương Công Gia Phát\"\n",
    "\n",
    "studentID = 21127667\n",
    "# END YOUR CODE\n"
   ]
  },
  {
   "cell_type": "markdown",
   "metadata": {},
   "source": [
    "This stage aim to collect the data from World Bank  which includes demographic data and other statistics related to Population, Employment, Health, GDP, Energy Consumption,... for all countries in the world from 1960 to 2022. Here is a brief overview about selected indicators:\n",
    "\n",
    "<table style=\"width: 100%; border-collapse: collapse;\">\n",
    "  <thead>\n",
    "    <tr>\n",
    "      <th style=\"min-width: 10px; width: 30px; background-color: #4E70BB; color: white; font-size :15px; font-weight: bold; text-align: left; padding: 8px;\">No</th>\n",
    "      <th style=\"background-color: #4E70BB; color: white; font-size :15px; font-weight: bold; text-align: left; padding: 8px;\">Indicator Code</th>\n",
    "      <th style=\"background-color: #4E70BB; color: white; font-size :15px; font-weight: bold; text-align: left; padding: 8px;\">Meaning</th>\n",
    "    </tr>\n",
    "  </thead>\n",
    "  <tbody>\n",
    "    <tr>\n",
    "      <td style=\"font-weight: bold; font-size: 14px; color: #254441; text-align: left;\">1</td>\n",
    "      <td style=\"font-weight: bold; font-size: 14px; color: #254441; text-align: left;\">SP.POP.TOTL</td>\n",
    "      <td style=\"font-size: 14px; text-align: left;\">Total Population.</td>\n",
    "    </tr>\n",
    "    <tr>\n",
    "      <td style=\"font-weight: bold; font-size: 14px; color: #3850A0; text-align: left;\">2</td>\n",
    "      <td style=\"font-weight: bold; font-size: 14px; color: #3850A0; text-align: left;\">SP.POP.TOTL.FE.IN</td>\n",
    "      <td style=\"font-size: 14px; text-align: left;\">Female Population.</td>\n",
    "    </tr>\n",
    "    <tr>\n",
    "      <td style=\"font-weight: bold; font-size: 14px; color: #8C001A; text-align: left;\">3</td>\n",
    "      <td style=\"font-weight: bold; font-size: 14px; color: #8C001A; text-align: left;\">SP.POP.TOTL.MA.IN</td>\n",
    "      <td style=\"font-size: 14px; text-align: left;\">Male Population.</td>\n",
    "    </tr>\n",
    "    <tr>\n",
    "      <td style=\"font-weight: bold; font-size: 14px; color: #FFAA33; text-align: left;\">4</td>\n",
    "      <td style=\"font-weight: bold; font-size: 14px; color: #FFAA33; text-align: left;\">SP.DYN.CBRT.IN</td>\n",
    "      <td style=\"font-size: 14px; text-align: left;\">Birth Rate.</td>\n",
    "    </tr>\n",
    "    <tr>\n",
    "      <td style=\"font-weight: bold; font-size: 14px; color: #FF0077; text-align: left;\">5</td>\n",
    "      <td style=\"font-weight: bold; font-size: 14px; color: #FF0077; text-align: left;\">SP.DYN.CDRT.IN</td>\n",
    "      <td style=\"font-size: 14px; text-align: left;\">Death Rate.</td>\n",
    "    </tr>\n",
    "    <tr>\n",
    "      <td style=\"font-weight: bold; font-size: 14px; color: #009A80; text-align: left;\">6</td>\n",
    "      <td style=\"font-weight: bold; font-size: 14px; color: #009A80; text-align: left;\">SE.COM.DURS</td>\n",
    "      <td style=\"font-size: 14px; text-align: left;\">Compulsory Education Dur.</td>\n",
    "    </tr>\n",
    "    <tr>\n",
    "      <td style=\"font-weight: bold; font-size: 14px; color: #660099; text-align: left;\">7</td>\n",
    "      <td style=\"font-weight: bold; font-size: 14px; color: #660099; text-align: left;\">SL.IND.EMPL.ZS</td>\n",
    "      <td style=\"font-size: 14px; text-align: left;\">Employment in Industry(%).</td>\n",
    "    </tr>\n",
    "    <tr>\n",
    "      <td style=\"font-weight: bold; font-size: 14px; color: #4B0082; text-align: left;\">8</td>\n",
    "      <td style=\"font-weight: bold; font-size: 14px; color: #4B0082; text-align: left;\">SL.AGR.EMPL.ZS</td>\n",
    "      <td style=\"font-size: 14px; text-align: left;\">Employment in Agriculture(%).</td>\n",
    "    </tr>\n",
    "    <tr>\n",
    "      <td style=\"font-weight: bold; font-size: 14px; color: #0000FF; text-align: left;\">9</td>\n",
    "      <td style=\"font-weight: bold; font-size: 14px; color: #0000FF; text-align: left;\">SL.AGR.EMPL.FE.ZS</td>\n",
    "      <td style=\"font-size: 14px; text-align: left;\">Female Employment in Agriculture(%).</td>\n",
    "    </tr>\n",
    "    <tr>\n",
    "      <td style=\"font-weight: bold; font-size: 14px; color: #254441; text-align: left;\">10</td>\n",
    "      <td style=\"font-weight: bold; font-size: 14px; color: #254441; text-align: left;\">SL.IND.EMPL.FE.ZS</td>\n",
    "      <td style=\"font-size: 14px; text-align: left;\">Female Employment in Industry(%).</td>\n",
    "    </tr>\n",
    "    <tr>\n",
    "      <td style=\"font-weight: bold; font-size: 14px; color: #3850A0; text-align: left;\">11</td>\n",
    "      <td style=\"font-weight: bold; font-size: 14px; color: #3850A0; text-align: left;\">SL.UEM.TOTL.ZS</td>\n",
    "      <td style=\"font-size: 14px; text-align: left;\">Unemployment(%).</td>\n",
    "    </tr>\n",
    "    <tr>\n",
    "      <td style=\"font-weight: bold; font-size: 14px; color: #8C001A; text-align: left;\">12</td>\n",
    "      <td style=\"font-weight: bold; font-size: 14px; color: #8C001A; text-align: left;\">NY.GDP.MKTP.CD</td>\n",
    "      <td style=\"font-size: 14px; text-align: left;\">GDP in USD.</td>\n",
    "    </tr>\n",
    "    <tr>\n",
    "      <td style=\"font-weight: bold; font-size: 14px; color: #FFAA33; text-align: left;\">13</td>\n",
    "      <td style=\"font-weight: bold; font-size: 14px; color: #FFAA33; text-align: left;\">NY.ADJ.NNTY.PC.KD.ZG</td>\n",
    "      <td style=\"font-size: 14px; text-align: left;\">National Income per Capita.</td>\n",
    "    </tr>\n",
    "    <tr>\n",
    "      <td style=\"font-weight: bold; font-size: 14px; color: #FF0077; text-align: left;\">14</td>\n",
    "      <td style=\"font-weight: bold; font-size: 14px; color: #FF0077; text-align: left;\">NY.GSR.NFCY.CD</td>\n",
    "      <td style=\"font-size: 14px; text-align: left;\">Net income from Abroad.</td>\n",
    "    </tr>\n",
    "    <tr>\n",
    "      <td style=\"font-weight: bold; font-size: 14px; color: #009A80; text-align: left;\">15</td>\n",
    "      <td style=\"font-weight: bold; font-size: 14px; color: #009A80; text-align: left;\">NV.AGR.TOTL.CD</td>\n",
    "      <td style=\"font-size: 14px; text-align: left;\">Agriculture value added(in USD).</td>\n",
    "    </tr>\n",
    "    <tr>\n",
    "      <td style=\"font-weight: bold; font-size: 14px; color: #660099; text-align: left;\">16</td>\n",
    "      <td style=\"font-weight: bold; font-size: 14px; color: #660099; text-align: left;\">EG.USE.ELEC.KH.PC</td>\n",
    "      <td style=\"font-size: 14px; text-align: left;\">Electric Power Consumption(kWH per capita).</td>\n",
    "    </tr>\n",
    "    <tr>\n",
    "      <td style=\"font-weight: bold; font-size: 14px; color: #4B0082; text-align: left;\">17</td>\n",
    "      <td style=\"font-weight: bold; font-size: 14px; color: #4B0082; text-align: left;\">EG.FEC.RNEW.ZS</td>\n",
    "      <td style=\"font-size: 14px; text-align: left;\">Renewable Energy Consumption (%).</td>\n",
    "    </tr>\n",
    "    <tr>\n",
    "      <td style=\"font-weight: bold; font-size: 14px; color: #0000FF; text-align: left;\">18</td>\n",
    "      <td style=\"font-weight: bold; font-size: 14px; color: #0000FF; text-align: left;\">EG.USE.COMM.FO.ZS</td>\n",
    "      <td style=\"font-size: 14px; text-align: left;\">Fossil Fuel Consumption (%).</td>\n",
    "    </tr>\n",
    "    <tr>\n",
    "      <td style=\"font-weight: bold; font-size: 14px; color: #254441; text-align: left;\">19</td>\n",
    "      <td style=\"font-weight: bold; font-size: 14px; color: #254441; text-align: left;\">SP.DYN.LE00.MA.IN</td>\n",
    "      <td style=\"font-size: 14px; text-align: left;\">Male life expectancy.</td>\n",
    "    </tr>\n",
    "    <tr>\n",
    "      <td style=\"font-weight: bold; font-size: 14px; color: #3850A0; text-align: left;\">20</td>\n",
    "      <td style=\"font-weight: bold; font-size: 14px; color: #3850A0; text-align: left;\">SP.DYN.LE00.FE.IN</td>\n",
    "      <td style=\"font-size: 14px; text-align: left;\">Female life expectancy.</td>\n",
    "    </tr>\n",
    "    <tr>\n",
    "      <td style=\"font-weight: bold; font-size: 14px; color: #8C001A; text-align: left;\">21</td>\n",
    "      <td style=\"font-weight: bold; font-size: 14px; color: #8C001A; text-align: left;\">SE.PRM.ENRR</td>\n",
    "      <td style=\"font-size: 14px; text-align: left;\">School enrollment, primary.</td>\n",
    "    </tr>\n",
    "    <tr>\n",
    "      <td style=\"font-weight: bold; font-size: 14px; color: #FFAA33; text-align: left;\">22</td>\n",
    "      <td style=\"font-weight: bold; font-size: 14px; color: #FFAA33; text-align: left;\">SE.TER.ENRR</td>\n",
    "      <td style=\"font-size: 14px; text-align: left;\">School enrollment, tertiary.</td>\n",
    "    </tr>\n",
    "    <tr>\n",
    "      <td style=\"font-weight: bold; font-size: 14px; color: #FF0077; text-align: left;\">23</td>\n",
    "      <td style=\"font-weight: bold; font-size: 14px; color: #FF0077; text-align: left;\">SE.PRM.CMPT.ZS</td>\n",
    "      <td style=\"font-size: 14px; text-align: left;\">Primary completion rate.</td>\n",
    "    </tr>\n",
    "    <tr>\n",
    "      <td style=\"font-weight: bold; font-size: 14px; color: #009A80; text-align: left;\">24</td>\n",
    "      <td style=\"font-weight: bold; font-size: 14px; color: #009A80; text-align: left;\">SE.ADT.1524.LT.ZS</td>\n",
    "      <td style=\"font-size: 14px; text-align: left;\">Literacy rate.</td>\n",
    "    </tr>\n",
    "  </tbody>\n",
    "</table>"
   ]
  },
  {
   "cell_type": "markdown",
   "metadata": {},
   "source": [
    "**About LICENSE**"
   ]
  },
  {
   "cell_type": "markdown",
   "metadata": {},
   "source": [
    "The World Bank Group makes data publicly under the Creative Commons Attribution 4.0 International license (CC-BY 4.0)"
   ]
  },
  {
   "cell_type": "markdown",
   "metadata": {},
   "source": [
    "```\n",
    "Creative Commons Attribution 4.0 (CC-BY 4.0)\n",
    "\n",
    "The Creative Commons Attribution 4.0 International license allows users to copy, modify and distribute data in any format for any purpose, including commercial use. Users are only obligated to give appropriate credit (attribution) and indicate if they have made any changes, including translations. CC-BY 4.0, with the additional terms below, is the default license for all Datasets produced by the World Bank itself and distributed as open data.\n",
    "\n",
    "All users of these Datasets under the CC-BY 4.0 License also agree to the following mandatory terms: Any and all disputes arising under this License that cannot be settled amicably shall be resolved in accordance with the following procedure:\n",
    "1. Pursuant to a notice of mediation communicated by reasonable means by either You or the Licensor to the other, the dispute shall be submitted to non-binding mediation conducted in accordance with rules designated by the Licensor in the copyright notice published with the Work, or if none then in accordance with those communicated in the notice of mediation. The language used in the mediation proceedings shall be English unless otherwise agreed.\n",
    "2. If any such dispute has not been settled within 45 days following the date on which the notice of mediation is provided, either You or the Licensor may, pursuant to a notice of arbitration communicated by reasonable means to the other, elect to have the dispute referred to and finally determined by arbitration. The arbitration shall be conducted in accordance with the rules designated by the Licensor in the copyright notice published with the Work, or if none then in accordance with the UNCITRAL Arbitration Rules as then in force. The arbitral tribunal shall consist of a sole arbitrator and the language of the proceedings shall be English unless otherwise agreed. The place of arbitration shall be where the Licensor has its headquarters. The arbitral proceedings shall be conducted remotely (e.g., via telephone conference or written submissions) whenever practicable.\n",
    "```"
   ]
  },
  {
   "cell_type": "markdown",
   "metadata": {},
   "source": [
    "Depending on your student ID, you will assigned to analyze a specific continent."
   ]
  },
  {
   "cell_type": "code",
   "execution_count": 2,
   "metadata": {},
   "outputs": [
    {
     "name": "stdout",
     "output_type": "stream",
     "text": [
      "americas\n"
     ]
    }
   ],
   "source": [
    "def continentChooser(studentID: int) -> str:\n",
    "    return str(['asia', 'europe', 'africa', 'americas'][studentID % 4])\n",
    "\n",
    "your_continent:str = continentChooser(studentID=studentID)\n",
    "print(your_continent)"
   ]
  },
  {
   "cell_type": "markdown",
   "metadata": {},
   "source": [
    "Now, we start to setup some params for you"
   ]
  },
  {
   "cell_type": "code",
   "execution_count": 3,
   "metadata": {},
   "outputs": [],
   "source": [
    "format: str = \"json\"\n",
    "per_page: int = 100\n",
    "\n",
    "year_interval: str = \"1995:2022\"\n",
    "\n",
    "is_display: bool = True"
   ]
  },
  {
   "cell_type": "markdown",
   "metadata": {},
   "source": [
    "## Import necessary Python modules 📚"
   ]
  },
  {
   "cell_type": "code",
   "execution_count": 4,
   "metadata": {},
   "outputs": [],
   "source": [
    "import os\n",
    "import sys\n",
    "\n",
    "module_path = os.path.abspath(os.path.join('..'))\n",
    "if module_path not in sys.path:\n",
    "    sys.path.append(module_path)\n",
    "    \n",
    "from src.data_module import make_dataset"
   ]
  },
  {
   "cell_type": "markdown",
   "metadata": {},
   "source": [
    "## Start crawling and save your collected data"
   ]
  },
  {
   "cell_type": "markdown",
   "metadata": {},
   "source": [
    "Using ```make_dataset.loadDataContinent``` to start crawling and save your raw data to ```csv``` format."
   ]
  },
  {
   "cell_type": "code",
   "execution_count": null,
   "metadata": {},
   "outputs": [
    {
     "name": "stdout",
     "output_type": "stream",
     "text": [
      "[LOG] Loading data for Antigua and Barbuda\n",
      "[LOG] Loading data for Argentina\n",
      "[LOG] Loading data for Aruba\n",
      "[LOG] Loading data for Bahamas, The\n",
      "[LOG] Loading data for Barbados\n",
      "[LOG] Loading data for Belize\n",
      "[LOG] Loading data for Bermuda\n",
      "[LOG] Loading data for Bolivia\n",
      "[LOG] Loading data for Brazil\n",
      "[LOG] Loading data for British Virgin Islands\n",
      "[LOG] Loading data for Canada\n",
      "[LOG] Loading data for Cayman Islands\n",
      "[LOG] Loading data for Chile\n",
      "[LOG] Loading data for Colombia\n",
      "[LOG] Loading data for Costa Rica\n",
      "[LOG] Loading data for Cuba\n",
      "[LOG] Loading data for Dominica\n",
      "[LOG] Loading data for Dominican Republic\n",
      "[LOG] Loading data for Ecuador\n",
      "[LOG] Loading data for El Salvador\n",
      "[LOG] Loading data for Greenland\n",
      "[LOG] Loading data for Grenada\n",
      "[LOG] Loading data for Guatemala\n",
      "[LOG] Loading data for Guyana\n",
      "[LOG] Loading data for Haiti\n",
      "[LOG] Loading data for Honduras\n",
      "[LOG] Loading data for Jamaica\n",
      "[LOG] Loading data for Mexico\n",
      "[LOG] Loading data for Nicaragua\n",
      "[LOG] Loading data for Panama\n",
      "[LOG] Loading data for Paraguay\n",
      "[LOG] Loading data for Peru\n",
      "[LOG] Loading data for Puerto Rico\n",
      "[LOG] Loading data for St. Kitts and Nevis\n",
      "[LOG] Loading data for St. Lucia\n",
      "[LOG] Loading data for St. Vincent and the Grenadines\n",
      "[LOG] Loading data for Suriname\n",
      "[LOG] Loading data for Trinidad and Tobago\n",
      "[LOG] Loading data for Turks and Caicos Islands\n",
      "[LOG] Loading data for United States\n"
     ]
    }
   ],
   "source": [
    "df = make_dataset.loadDataContinent(\n",
    "    continent = your_continent,\n",
    "    format = format,\n",
    "    per_page = per_page,\n",
    "    year_interval = year_interval,\n",
    "    is_display = is_display\n",
    ")"
   ]
  },
  {
   "cell_type": "code",
   "execution_count": null,
   "metadata": {},
   "outputs": [],
   "source": [
    "save_name = \"_\".join([str(studentID), str(your_continent)]) + \".csv\"\n",
    "make_dataset.saveDataFrame2CSV(df, os.path.join(\"../data/raw\", save_name))"
   ]
  }
 ],
 "metadata": {
  "kernelspec": {
   "display_name": "Python (min_ds-env)",
   "language": "python",
   "name": "min_ds-env"
  },
  "language_info": {
   "codemirror_mode": {
    "name": "ipython",
    "version": 3
   },
   "file_extension": ".py",
   "mimetype": "text/x-python",
   "name": "python",
   "nbconvert_exporter": "python",
   "pygments_lexer": "ipython3",
   "version": "3.10.8"
  }
 },
 "nbformat": 4,
 "nbformat_minor": 4
}
